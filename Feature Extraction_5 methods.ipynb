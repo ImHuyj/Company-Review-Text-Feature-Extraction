{
 "cells": [
  {
   "cell_type": "code",
   "execution_count": 5,
   "metadata": {},
   "outputs": [],
   "source": [
    "import pandas as pd\n",
    "import numpy as np\n",
    "import warnings\n",
    "warnings.simplefilter(\"ignore\")\n",
    "#nltk\n",
    "import nltk\n",
    "#stop-words\n",
    "from nltk.corpus import stopwords\n",
    "# tokenizing\n",
    "from nltk import word_tokenize\n",
    "# Beautiful Soup\n",
    "from bs4 import BeautifulSoup \n",
    "# regex\n",
    "import re\n",
    "#word2vec\n",
    "from gensim.models import Word2Vec\n",
    "#machine learning\n",
    "from sklearn.model_selection import train_test_split\n",
    "from sklearn.linear_model import LogisticRegression\n",
    "from sklearn.feature_selection import SelectKBest, chi2\n",
    "from sklearn.feature_extraction.text import TfidfVectorizer,CountVectorizer\n",
    "#plot\n",
    "from pylab import *\n",
    "import matplotlib.pyplot as plt\n",
    "from matplotlib.ticker import FormatStrFormatter"
   ]
  },
  {
   "cell_type": "markdown",
   "metadata": {},
   "source": [
    "### 读入评论文本数据"
   ]
  },
  {
   "cell_type": "code",
   "execution_count": 6,
   "metadata": {},
   "outputs": [],
   "source": [
    "data = pd.read_csv('employee_reviews.csv')\n",
    "reviews = data[['company', 'pros', 'cons']]"
   ]
  },
  {
   "cell_type": "markdown",
   "metadata": {},
   "source": [
    "### 评论文本预处理"
   ]
  },
  {
   "cell_type": "code",
   "execution_count": 7,
   "metadata": {},
   "outputs": [],
   "source": [
    "def clean_reviews(review):\n",
    "    #Removing html tags\n",
    "    review_text = BeautifulSoup(review).get_text()\n",
    "    #Retaining only alphabets.\n",
    "    review_text = re.sub(\"[^a-zA-Z]\",\" \",review_text)   \n",
    "    #Converting to lower case and splitting\n",
    "    word_tokens= review_text.lower().split()\n",
    "    #Remove stopwords\n",
    "    stop_words= set(stopwords.words(\"english\"))     \n",
    "    word_tokens= [w for w in word_tokens if not w in stop_words]\n",
    "    #from words back to reviews\n",
    "    cleaned_review=\" \".join(word_tokens)\n",
    "    return cleaned_review"
   ]
  },
  {
   "cell_type": "code",
   "execution_count": 8,
   "metadata": {},
   "outputs": [],
   "source": [
    "#clean reviews\n",
    "reviews['pros']=reviews['pros'].apply(clean_reviews)\n",
    "reviews['cons']=reviews['cons'].apply(clean_reviews)\n",
    "#combine pros and cons\n",
    "reviews['review'] = reviews['pros']+' '+reviews['cons']"
   ]
  },
  {
   "cell_type": "markdown",
   "metadata": {},
   "source": [
    "### IF-IDF和卡方检验"
   ]
  },
  {
   "cell_type": "code",
   "execution_count": 11,
   "metadata": {},
   "outputs": [],
   "source": [
    "#计算TFIDF \n",
    "def calculateTFIDF(doc_str_list_train, doc_str_list_test, fs_num):\n",
    "    vect =TfidfVectorizer(max_features= fs_num)\n",
    "    doc_train_vec=vect.fit_transform(doc_str_list_train)\n",
    "    doc_test_vec=vect.transform(doc_str_list_test)\n",
    "    return doc_train_vec, doc_test_vec\n",
    "\n",
    "#根据开方检验特征选择算法计算文档集中各个文档的词与类别的开方值\n",
    "def calculateCHI(doc_str_list_train, doc_str_list_test,doc_class_list_train, fs_num):\n",
    "    vect =TfidfVectorizer()\n",
    "    doc_train_vec_tf=vect.fit_transform(doc_str_list_train)\n",
    "    doc_test_vec_tf=vect.transform(doc_str_list_test)\n",
    "    vectCHI = SelectKBest(chi2, k=fs_num)#选择k个最佳特征\n",
    "    doc_train_vec = vectCHI.fit_transform(doc_train_vec_tf, doc_class_list_train)        \n",
    "    doc_test_vec = vectCHI.transform(doc_test_vec_tf)\n",
    "    return doc_train_vec, doc_test_vec"
   ]
  },
  {
   "cell_type": "markdown",
   "metadata": {},
   "source": [
    "### 信息增益和期望交叉熵"
   ]
  },
  {
   "cell_type": "code",
   "execution_count": 36,
   "metadata": {},
   "outputs": [],
   "source": [
    "#得到类的字典\n",
    "def get_class_dict(doc_class_list):\n",
    "    class_set = sorted(list(set(doc_class_list)))\n",
    "    class_dict = dict(zip(class_set, range(len(class_set))))#class set 排序后，按照索引做出字典\n",
    "    return  class_dict\n",
    "\n",
    "#得到词的字典\n",
    "def get_term_dict(doc_terms_list):\n",
    "    term_set_dict = {}\n",
    "    for doc_terms in doc_terms_list:\n",
    "        for term in doc_terms:\n",
    "            term_set_dict[term] = 1\n",
    "    term_set_list = sorted(term_set_dict.keys())       \n",
    "    term_set_dict = dict(zip(term_set_list, range(len(term_set_list))))#term set 排序后，按照索引做出字典\n",
    "    return term_set_dict\n",
    "\n",
    "#得到类和类文档频数的字典\n",
    "def stats_class_df(doc_class_list, class_dict):\n",
    "    class_df_list = [0] * len(class_dict)\n",
    "    for doc_class in doc_class_list:\n",
    "        class_df_list[class_dict[doc_class]] += 1\n",
    "    return class_df_list\n",
    "\n",
    "#得到词和类的对应矩阵\n",
    "def stats_term_class_df(doc_terms_list, doc_class_list, term_dict, class_dict):\n",
    "    term_class_df_mat = np.zeros((len(term_dict), len(class_dict)), np.float32)\n",
    "    for k in range(len(doc_class_list)):\n",
    "        class_index = class_dict[doc_class_list[k]]\n",
    "        doc_terms = doc_terms_list[k]\n",
    "        for term in set(doc_terms):\n",
    "            term_index = term_dict[term]\n",
    "            term_class_df_mat[term_index][class_index] +=1\n",
    "    return term_class_df_mat\n",
    "\n",
    "#信息增益\n",
    "def calculateInformationGain(class_df_list, term_set, term_class_df_mat):\n",
    "    A = term_class_df_mat#每个数代表一个特征出现属于某类别的文档数\n",
    "    B = np.array([(sum(x) - x).tolist() for x in A])\n",
    "    C = np.tile(class_df_list, (A.shape[0], 1)) - A\n",
    "    N = sum(class_df_list)#总文档数（总评论数）\n",
    "    D = N - A - B - C\n",
    "    term_df_array = np.sum(A, axis = 1)#所有词出现过的文档数的矩阵\n",
    "    class_set_size = len(class_df_list)#class的数量\n",
    "    p_c_mat = np.array(class_df_list)/sum(class_df_list)\n",
    "\n",
    "    p_t = term_df_array / N #Pt\n",
    "    p_not_t = 1 - p_t\n",
    "    p_c_t_mat =  (A + 1) / (A + B + class_set_size)\n",
    "    p_c_not_t_mat = (C+1) / (C + D + class_set_size)\n",
    "    p_c_t = np.sum(p_c_t_mat  *  np.log2(p_c_t_mat), axis =1)\n",
    "    p_c_not_t = np.sum(p_c_not_t_mat *  np.log2(p_c_not_t_mat), axis =1)\n",
    "\n",
    "    h_c_t = -(p_t * p_c_t + p_not_t * p_c_not_t)\n",
    "    h_c = - np.sum(p_c_mat *  np.log2(p_c_mat))\n",
    "    term_score_array = h_c - h_c_t\n",
    "    sorted_term_score_index = term_score_array.argsort()[: : -1]\n",
    "    term_set_fs = [term_set[index] for index in sorted_term_score_index]   \n",
    "    return term_set_fs\n",
    "\n",
    "#期望交叉熵\n",
    "def calculateKL(class_df_list, term_set, term_class_df_mat):\n",
    "    A = term_class_df_mat#每个数代表一个特征出现属于某类别的文档数\n",
    "    B = np.array([(sum(x) - x).tolist() for x in A])\n",
    "    N = sum(class_df_list)#总文档数（总评论数）\n",
    "    term_df_array = np.sum(A, axis = 1)#所有词出现过的文档数的矩阵\n",
    "    class_df_array = np.sum(A, axis = 0)\n",
    "    class_set_size = len(class_df_list)#class的数量\n",
    "    sorted_term_score_index = []\n",
    "\n",
    "    p_t = term_df_array / N #Pt\n",
    "    p_c_t_mat =  (A + 1) / (A + B + class_set_size)\n",
    "    p_c_mat = np.array(class_df_list)/sum(class_df_list)\n",
    "    ece = p_t * np.sum(p_c_t_mat * np.log(p_c_t_mat/ p_c_mat), axis = 1)\n",
    "    cd = np.array([(x/sum(x)).tolist() for x in A])\n",
    "    dd = A/np.sum(A, axis = 0)      \n",
    "    cd_ece = [cd[:,i]*dd[:,i]*ece for i in range(len(class_df_list))]\n",
    "\n",
    "    term_score_array = np.sum(np.array(cd_ece), axis = 0)\n",
    "    sorted_term_score_index = term_score_array.argsort()[: : -1]\n",
    "    term_set_fs = [term_set[index] for index in sorted_term_score_index]   \n",
    "    return term_set_fs\n",
    "\n",
    "def feature_selection(doc_str_list, doc_class_list, fs_method):\n",
    "    vectorizer = CountVectorizer(binary = True)   \n",
    "    word_tokenizer = vectorizer.build_tokenizer()\n",
    "    doc_terms_list = [word_tokenizer(doc_str) for doc_str in doc_str_list]\n",
    "    \n",
    "    class_dict = get_class_dict(doc_class_list)\n",
    "    term_dict = get_term_dict(doc_terms_list)\n",
    "    class_df_list = stats_class_df(doc_class_list, class_dict)#每种类别的数量dict\n",
    "    term_class_df_mat = stats_term_class_df(doc_terms_list, doc_class_list, term_dict, class_dict)\n",
    "    term_set = [term[0] for term in sorted(term_dict.items(), key = lambda x : x[1])]\n",
    "    term_set_fs = []\n",
    "    \n",
    "    if fs_method == 'IG':\n",
    "        term_set_fs = calculateInformationGain(class_df_list, term_set, term_class_df_mat)\n",
    "    elif fs_method == 'ECE':\n",
    "        term_set_fs = calculateKL(class_df_list, term_set, term_class_df_mat)\n",
    "    \n",
    "    return term_set_fs"
   ]
  },
  {
   "cell_type": "markdown",
   "metadata": {},
   "source": [
    "### Word2Vec"
   ]
  },
  {
   "cell_type": "code",
   "execution_count": 31,
   "metadata": {},
   "outputs": [],
   "source": [
    "# clean corpus\n",
    "tokenizer = nltk.data.load('tokenizers/punkt/english.pickle')\n",
    "sentences=[]\n",
    "for attr in ['pros', 'cons']:\n",
    "    for review in reviews[[attr]].iloc[:,0]:\n",
    "        sents=tokenizer.tokenize(review.strip()) #分割句子\n",
    "        for sent in sents:\n",
    "            cleaned_sent=clean_reviews(sent)\n",
    "            sentences.append(cleaned_sent.split())"
   ]
  },
  {
   "cell_type": "code",
   "execution_count": 37,
   "metadata": {},
   "outputs": [],
   "source": [
    "#word2vec\n",
    "def word2vec_class(fs_num):\n",
    "    w2v_model=Word2Vec(sentences,size=fs_num,window=10,min_count=40) # try to tune parameters.\n",
    "    w2v_model.train(sentences,total_examples=len(sentences),epochs=10)\n",
    "    doc_vectors_train=[]\n",
    "    i = 0\n",
    "    for review in reviews['review']:\n",
    "        doc_vectors = make_doc_vectors(review,fs_num,w2v_model)\n",
    "        doc_vectors_train.append(doc_vectors)\n",
    "    doc_vectors_train=np.array(doc_vectors_train)\n",
    "    Y=np.array(list(reviews['company']))\n",
    "    x,x_test,y,y_test=train_test_split(doc_vectors_train,Y,test_size=0.20,random_state=42)\n",
    "    clf = LogisticRegression().fit(x, y)  #调用logistic分类器\n",
    "    doc_test_predicted = clf.predict(x_test)\n",
    "    acc = np.mean(doc_test_predicted == y_test)  \n",
    "    return acc\n",
    "\n",
    "#word vector to document vector\n",
    "def make_doc_vectors(review,fs_num,w2v_model):\n",
    "    doc_vec=np.zeros(fs_num,dtype='float64') # initialize with zeros.\n",
    "    words=review.split()\n",
    "    for word in words: # iterate over all words.\n",
    "        if word in w2v_model.wv.vocab:\n",
    "            word_vec=w2v_model.wv.get_vector(word) # if word in vocab add its word vector to our doc vector\n",
    "            doc_vec=doc_vec+word_vec\n",
    "    return doc_vec/len(words)  # returning the averaged word vector ie the 'doc vector' for us. "
   ]
  },
  {
   "cell_type": "markdown",
   "metadata": {},
   "source": [
    "### 分类任务比较模型"
   ]
  },
  {
   "cell_type": "code",
   "execution_count": 38,
   "metadata": {
    "scrolled": true
   },
   "outputs": [],
   "source": [
    "acc_dict = {}    \n",
    "fs_method_list = ['TFIDF', 'CHI', 'IG', 'ECE', 'Word2Vec']\n",
    "fs_num_list = range(100, 1000, 100)\n",
    "    \n",
    "for fs_method in fs_method_list:\n",
    "    acc_list = []\n",
    "    if fs_method in ['Word2Vec']:\n",
    "        for fs_num in fs_num_list:\n",
    "            #print('fs method:' + fs_method, 'fs num:' + str(fs_num))\n",
    "            acc = word2vec_class(fs_num)\n",
    "            #print('Accuracy: ', acc)\n",
    "            acc_list.append(acc)            \n",
    "    else:\n",
    "        doc_str_list_train, doc_str_list_test, doc_class_list_train, doc_class_list_test = train_test_split(reviews['review'], reviews['company'], test_size = 0.2, random_state = 0)\n",
    "        doc_str_list_train.reset_index(inplace=True,drop=True)\n",
    "        doc_str_list_test.reset_index(inplace=True,drop=True)\n",
    "        doc_class_list_train.reset_index(inplace=True,drop=True)\n",
    "        doc_class_list_test.reset_index(inplace=True,drop=True)\n",
    "        if fs_method in ['TFIDF', 'CHI']:\n",
    "            for fs_num in fs_num_list:        \n",
    "                #print('fs method:' + fs_method, 'fs num:' + str(fs_num))\n",
    "                if fs_method == 'TFIDF':\n",
    "                    doc_train_vec, doc_test_vec = calculateTFIDF(doc_str_list_train, doc_str_list_test, fs_num)\n",
    "                elif fs_method == 'CHI':\n",
    "                    doc_train_vec, doc_test_vec = calculateCHI(doc_str_list_train, doc_str_list_test, doc_class_list_train, fs_num)\n",
    "                clf = LogisticRegression().fit(doc_train_vec, doc_class_list_train)\n",
    "                doc_test_predicted = clf.predict(doc_test_vec)\n",
    "                acc = np.mean(doc_test_predicted == doc_class_list_test)  \n",
    "                #print('Accuracy: ', acc)\n",
    "                acc_list.append(acc)\n",
    "        elif fs_method in ['IG', 'ECE']:\n",
    "            term_fs = feature_selection(doc_str_list_train, doc_class_list_train, fs_method)\n",
    "            for fs_num in fs_num_list:\n",
    "                #print('fs method:' + fs_method, 'fs num:' + str(fs_num))\n",
    "                term_set_fs = term_fs[:fs_num]\n",
    "                term_dict = dict(zip(term_set_fs, range(len(term_set_fs))))\n",
    "                vectorizer = CountVectorizer(binary = True, vocabulary = term_dict)\n",
    "                doc_train_vec = vectorizer.fit_transform(doc_str_list_train)\n",
    "                doc_test_vec= vectorizer.transform(doc_str_list_test)\n",
    "                clf = LogisticRegression().fit(doc_train_vec, doc_class_list_train)\n",
    "                doc_test_predicted = clf.predict(doc_test_vec)\n",
    "                acc = np.mean(doc_test_predicted == doc_class_list_test)  \n",
    "                #print('Accuracy: ', acc)\n",
    "                acc_list.append(acc)\n",
    "    acc_dict[fs_method] = acc_list\n",
    "    #print('fs method:', acc_dict[fs_method])"
   ]
  },
  {
   "cell_type": "code",
   "execution_count": 43,
   "metadata": {},
   "outputs": [
    {
     "data": {
      "image/png": "[encoded data removed]",
      "text/plain": [
       "<matplotlib.figure.Figure at 0xf1cc1d1668>"
      ]
     },
     "metadata": {},
     "output_type": "display_data"
    }
   ],
   "source": [
    "for fs_method in fs_method_list:\n",
    "    if fs_method in ['TFIDF', 'CHI', 'IG', 'ECE']:\n",
    "        plt.plot(fs_num_list, acc_dict[fs_method],  '--^',  label = fs_method)\n",
    "    else:\n",
    "        plt.plot(fs_num_list, acc_dict[fs_method],  '--s',  label = fs_method)\n",
    "    plt.xlabel('Feature Number')\n",
    "    plt.ylabel(\"Accuracy\")\n",
    "    plt.ylim((0.600, 0.740))\n",
    "\n",
    "plt.legend( loc='lower right', numpoints = 1)\n",
    "#plt.gca().yaxis.set_major_formatter(FormatStrFormatter('%1.3f'))\n",
    "plt.show()"
   ]
  },
  {
   "cell_type": "code",
   "execution_count": null,
   "metadata": {},
   "outputs": [],
   "source": []
  }
 ],
 "metadata": {
  "kernelspec": {
   "display_name": "Python 3",
   "language": "python",
   "name": "python3"
  },
  "language_info": {
   "codemirror_mode": {
    "name": "ipython",
    "version": 3
   },
   "file_extension": ".py",
   "mimetype": "text/x-python",
   "name": "python",
   "nbconvert_exporter": "python",
   "pygments_lexer": "ipython3",
   "version": "3.6.4"
  }
 },
 "nbformat": 4,
 "nbformat_minor": 2
}
